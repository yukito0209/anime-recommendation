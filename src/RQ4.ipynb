{
 "cells": [
  {
   "cell_type": "markdown",
   "id": "191150374f68eb6",
   "metadata": {},
   "source": [
    "### How do user characteristics and behaviors, including age, gender and others, influence rating behavior? (RQ4)"
   ]
  },
  {
   "cell_type": "code",
   "id": "initial_id",
   "metadata": {
    "collapsed": true,
    "jupyter": {
     "outputs_hidden": true
    }
   },
   "source": [
    "import pandas as pd"
   ],
   "outputs": [],
   "execution_count": null
  },
  {
   "cell_type": "code",
   "id": "9a04a0b31f6babe0",
   "metadata": {},
   "source": [
    "df_user = pd.read_csv('data/users-details-2023.csv')\n",
    "print(df_user.shape)\n",
    "df_user.head()"
   ],
   "outputs": [],
   "execution_count": null
  },
  {
   "cell_type": "code",
   "id": "a66b940f66f315f8",
   "metadata": {},
   "source": [
    "df_user_mean_score = df_user.dropna(subset=['Mean Score'])\n",
    "df_user_mean_score = df_user_mean_score[(df_user_mean_score['Mean Score'] != 0) & (df_user_mean_score['Mean Score'] <= 10) & (df_user_mean_score['Days Watched'] < 4000) & (df_user_mean_score['Mean Score'] > 5)]\n",
    "df_user = df_user_mean_score"
   ],
   "outputs": [],
   "execution_count": null
  },
  {
   "cell_type": "code",
   "id": "29a4340f4a865e04",
   "metadata": {},
   "source": [
    "# Select the variables to be plotted.\n",
    "variables = [\n",
    "    'Days Watched',\n",
    "    'Watching', \n",
    "    'Completed', \n",
    "    'On Hold', \n",
    "    'Dropped',\n",
    "    'Plan to Watch', \n",
    "    'Total Entries', \n",
    "    'Rewatched', \n",
    "    'Episodes Watched'\n",
    "]"
   ],
   "outputs": [],
   "execution_count": null
  },
  {
   "cell_type": "code",
   "id": "a5f9d6416ba04a3b",
   "metadata": {},
   "source": [
    "import plotly.graph_objects as go  # for 3D plot visualization\n",
    "from plotly.offline import init_notebook_mode, iplot\n",
    "init_notebook_mode(connected=True)\n",
    "\n",
    "sample_fraction = 0.1 # set sample fraction to 0.1\n",
    "\n",
    "# crate scatter chart for each variable\n",
    "for var in variables:\n",
    "    sampled_df = df_user.sample(frac=sample_fraction, random_state=1) # randomly select sample\n",
    "    fig = go.Figure()\n",
    "    fig.add_trace(\n",
    "        go.Scatter(\n",
    "            x=sampled_df['Mean Score'],\n",
    "            y=sampled_df[var],\n",
    "            mode='markers',\n",
    "            name=f'Mean Rating vs {var}',\n",
    "            marker=dict(\n",
    "                size=5,\n",
    "                color=sampled_df[var],\n",
    "                colorscale='Portland',\n",
    "                showscale=True\n",
    "            )\n",
    "        )\n",
    "    )\n",
    "    \n",
    "    fig.update_layout(\n",
    "        title={'text': f'Mean Rating vs {var}', 'x': 0.5},\n",
    "        xaxis_title='Mean Rating',\n",
    "        yaxis_title=var,\n",
    "        width=450,\n",
    "        height=400,\n",
    "        showlegend=False\n",
    "    )\n",
    "    \n",
    "    fig.show()"
   ],
   "outputs": [],
   "execution_count": null
  }
 ],
 "metadata": {
  "kernelspec": {
   "display_name": "Python 3 (ipykernel)",
   "language": "python",
   "name": "python3"
  },
  "language_info": {
   "codemirror_mode": {
    "name": "ipython",
    "version": 3
   },
   "file_extension": ".py",
   "mimetype": "text/x-python",
   "name": "python",
   "nbconvert_exporter": "python",
   "pygments_lexer": "ipython3",
   "version": "3.11.10"
  }
 },
 "nbformat": 4,
 "nbformat_minor": 5
}
