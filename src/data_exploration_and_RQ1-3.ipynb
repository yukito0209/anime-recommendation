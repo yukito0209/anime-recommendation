{
 "cells": [
  {
   "cell_type": "markdown",
   "id": "592274bbab20e3a8",
   "metadata": {},
   "source": [
    "## Import libraries"
   ]
  },
  {
   "cell_type": "code",
   "id": "initial_id",
   "metadata": {
    "collapsed": true,
    "jupyter": {
     "outputs_hidden": true
    }
   },
   "source": [
    "import numpy as np\n",
    "import pandas as pd\n",
    "import plotly.express as px\n",
    "import plotly.graph_objects as go\n",
    "import plotly.figure_factory as ff"
   ],
   "outputs": [],
   "execution_count": null
  },
  {
   "cell_type": "markdown",
   "id": "a22bac3ea67b502f",
   "metadata": {},
   "source": [
    "## Read the dataset"
   ]
  },
  {
   "cell_type": "code",
   "id": "868d9f1d2e424a2a",
   "metadata": {},
   "source": [
    "df_anime = pd.read_csv('data/anime-dataset-2023.csv')\n",
    "print(df_anime.shape)\n",
    "df_anime.head()"
   ],
   "outputs": [],
   "execution_count": null
  },
  {
   "cell_type": "code",
   "id": "eba0e9f228fe7757",
   "metadata": {},
   "source": [
    "df_user = pd.read_csv('data/users-details-2023.csv')\n",
    "print(df_user.shape)\n",
    "df_user.head()"
   ],
   "outputs": [],
   "execution_count": null
  },
  {
   "cell_type": "code",
   "id": "67757f0fe1a3fb95",
   "metadata": {},
   "source": [
    "df_score = pd.read_csv('data/users-score-2023.csv')\n",
    "print(df_score.shape)\n",
    "df_score.head()"
   ],
   "outputs": [],
   "execution_count": null
  },
  {
   "cell_type": "markdown",
   "id": "c6063f02a17b6f10",
   "metadata": {},
   "source": [
    "## Explore the data"
   ]
  },
  {
   "cell_type": "code",
   "id": "46b20a6dd3f2635b",
   "metadata": {},
   "source": [
    "# check the information of df_anime\n",
    "df_anime.info()"
   ],
   "outputs": [],
   "execution_count": null
  },
  {
   "cell_type": "code",
   "id": "639ca8fe3a9ca56",
   "metadata": {},
   "source": [
    "# check the amount of values in Score column\n",
    "df_anime['Score'].value_counts()"
   ],
   "outputs": [],
   "execution_count": null
  },
  {
   "cell_type": "markdown",
   "id": "34c5f6ddfe0333a6",
   "metadata": {},
   "source": [
    "### Many rows in the Score column have the value UNKNOWN. These rows are useless and need to be dropped."
   ]
  },
  {
   "cell_type": "code",
   "id": "8b0f7333b6c2362c",
   "metadata": {},
   "source": [
    "df_anime = df_anime[df_anime['Score'] != 'UNKNOWN'] # drop the UNKNOWN rows\n",
    "df_anime['Score'].value_counts()"
   ],
   "outputs": [],
   "execution_count": null
  },
  {
   "cell_type": "code",
   "id": "28330119bc948f74",
   "metadata": {},
   "source": [
    "df_anime.info()"
   ],
   "outputs": [],
   "execution_count": null
  },
  {
   "cell_type": "code",
   "id": "675316a70cf77bd2",
   "metadata": {},
   "source": [
    "# check the amount of values in Rank column\n",
    "df_anime['Rank'].value_counts()"
   ],
   "outputs": [],
   "execution_count": null
  },
  {
   "cell_type": "markdown",
   "id": "89814a8f03ecef64",
   "metadata": {},
   "source": [
    "### The Rank column has 2991 rows marked as UNKNOWN. These can be changed to null values instead of being dropped, as some important animation data might be lost."
   ]
  },
  {
   "cell_type": "code",
   "id": "71e7a64e0847ac5e",
   "metadata": {},
   "source": [
    "df_anime['Rank'] = df_anime['Rank'].replace('UNKNOWN', np.nan) # change the value to nan\n",
    "df_anime['Rank'].value_counts()"
   ],
   "outputs": [],
   "execution_count": null
  },
  {
   "cell_type": "code",
   "id": "ca03bc18792be809",
   "metadata": {},
   "source": [
    "# check the amount of values in Episodes column\n",
    "df_anime['Episodes'].value_counts()"
   ],
   "outputs": [],
   "execution_count": null
  },
  {
   "cell_type": "markdown",
   "id": "8e3d88d1a5a6ff52",
   "metadata": {},
   "source": [
    "### The Episodes column has 88 rows marked as UNKNOWN. These should be changed to null values as well."
   ]
  },
  {
   "cell_type": "code",
   "id": "2df0908c04afa752",
   "metadata": {},
   "source": [
    "df_anime['Episodes'] = df_anime['Episodes'].replace('UNKNOWN', np.nan) # # change the value to nan"
   ],
   "outputs": [],
   "execution_count": null
  },
  {
   "cell_type": "code",
   "id": "75ad0045a948cfc6",
   "metadata": {},
   "source": [
    "df_anime.info()"
   ],
   "outputs": [],
   "execution_count": null
  },
  {
   "cell_type": "markdown",
   "id": "c6c3ea6df03b8291",
   "metadata": {},
   "source": [
    "### Score,Scored By,Rank,Episodes are object type.They need to be converted to numerical data type."
   ]
  },
  {
   "cell_type": "code",
   "id": "c241a5a8d6cb3db0",
   "metadata": {},
   "source": [
    "# convert object to float64\n",
    "df_anime['Score'] = df_anime['Score'].astype(np.float64)\n",
    "df_anime['Scored By'] = df_anime['Scored By'].astype(np.float64)\n",
    "df_anime['Rank'] = df_anime['Rank'].astype(np.float64)\n",
    "df_anime['Episodes'] = df_anime['Episodes'].astype(np.float64)"
   ],
   "outputs": [],
   "execution_count": null
  },
  {
   "cell_type": "code",
   "id": "44378b82a7a68883",
   "metadata": {},
   "source": [
    "df_anime.info()"
   ],
   "outputs": [],
   "execution_count": null
  },
  {
   "cell_type": "code",
   "id": "d939d2ed26a0f2d5",
   "metadata": {},
   "source": [
    "# check the amount of values in Duration column\n",
    "df_anime['Duration'].value_counts()"
   ],
   "outputs": [],
   "execution_count": null
  },
  {
   "cell_type": "markdown",
   "id": "7950924d47742916",
   "metadata": {},
   "source": [
    "### The Duration column is not purely numerical and needs to be converted entirely to numerical values, with the unit being minutes."
   ]
  },
  {
   "cell_type": "code",
   "id": "be7929f5f23dbbb",
   "metadata": {},
   "source": [
    "import re # it is the support for regular expressions\n",
    "\n",
    "# convert duration to minutes\n",
    "def convert_duration_to_minutes(duration):   \n",
    "    # use regular expressions to match hours and minutes\n",
    "    hr_pattern = re.compile(r'(\\d+)\\s*hr')\n",
    "    min_pattern = re.compile(r'(\\d+)\\s*min')\n",
    "    # find hours and minutes in the Duration column\n",
    "    hours = hr_pattern.findall(duration)\n",
    "    minutes = min_pattern.findall(duration)\n",
    "    # convert hours and minutes into integers, and convert hours into minutes\n",
    "    hours = int(hours[0]) * 60 if hours else 0\n",
    "    minutes = int(minutes[0]) if minutes else 0\n",
    "    \n",
    "    return hours + minutes # return the total minutes"
   ],
   "outputs": [],
   "execution_count": null
  },
  {
   "cell_type": "code",
   "id": "ab40bc9aab7eac29",
   "metadata": {},
   "source": [
    "df_anime['Duration'] = df_anime['Duration'].apply(convert_duration_to_minutes) # apply the above function to Duration column\n",
    "df_anime.head()"
   ],
   "outputs": [],
   "execution_count": null
  },
  {
   "cell_type": "code",
   "id": "4df83b8401b5cce1",
   "metadata": {},
   "source": [
    "df_anime.info()"
   ],
   "outputs": [],
   "execution_count": null
  },
  {
   "cell_type": "markdown",
   "id": "291e9a01a652d2f",
   "metadata": {},
   "source": [
    "### What is the overall distribution of anime ratings on MyAnimeList, and what key features does it exhibit? (RQ1)\n"
   ]
  },
  {
   "cell_type": "code",
   "id": "1c4328e64b13bb00",
   "metadata": {},
   "source": [
    "# extract the Score column and count it, then merge it into a new dataframe\n",
    "df_score_counts = df_anime['Score'].value_counts().reset_index()\n",
    "df_score_counts.columns = ['Score', 'Count']\n",
    "df_score_counts.head()"
   ],
   "outputs": [],
   "execution_count": null
  },
  {
   "cell_type": "code",
   "id": "63423282a82e7d0b",
   "metadata": {},
   "source": [
    "# check the distribution of Score (Animation Ratings)\n",
    "fig = px.histogram(\n",
    "    df_score_counts,\n",
    "    x='Score',\n",
    "    y='Count',\n",
    "    labels={'Ratings': 'Ratings', 'Count': 'Rating Amount'}\n",
    ")\n",
    "fig.update_layout(\n",
    "    title={'text': 'Distribution of Animation Ratings', 'x': 0.5}, # set the title and make it in the center\n",
    "    width=1000,\n",
    "    height=600, \n",
    "    showlegend=False # hide the legend\n",
    ")\n",
    "fig.update_xaxes(dtick=0.1) # set the x-axis interval to 0.1\n",
    "fig.update_traces(xbins=dict(size=0.1)) # set the width of bars to 0.1\n",
    "fig.show()"
   ],
   "outputs": [],
   "execution_count": null
  },
  {
   "cell_type": "markdown",
   "id": "e1b64df8ce62a93d",
   "metadata": {},
   "source": [
    "#### **(1) explore the relationship between Type and Ratings**"
   ]
  },
  {
   "cell_type": "code",
   "id": "aa1d1cd24f5c8838",
   "metadata": {},
   "source": [
    "# check the amount of values in Type column\n",
    "df_anime['Type'].value_counts()"
   ],
   "outputs": [],
   "execution_count": null
  },
  {
   "cell_type": "code",
   "id": "a45900c5d2f9f413",
   "metadata": {},
   "source": [
    "df_anime = df_anime[df_anime['Type'] != 'UNKNOWN'] # drop the UNKNOWN column"
   ],
   "outputs": [],
   "execution_count": null
  },
  {
   "cell_type": "code",
   "id": "d7d69beece86503b",
   "metadata": {},
   "source": [
    "# draw the violin picture for Type and Score (Rating)\n",
    "fig = px.violin(\n",
    "    df_anime, \n",
    "    x='Type', \n",
    "    y='Score', \n",
    "    labels={'Type':'Anime Type', 'Score':'Rating'},\n",
    "    color='Type'\n",
    ")\n",
    "fig.update_layout(\n",
    "    title={'text': 'Distribution of Anime Rating by Type', 'x': 0.5}, # set the title and make it in the center\n",
    "    width=800,\n",
    "    height=500,\n",
    "    showlegend=True # show the legend (in the right part of the picture)\n",
    ")\n",
    "fig.show()"
   ],
   "outputs": [],
   "execution_count": null
  },
  {
   "cell_type": "code",
   "id": "b89217cc1932f82",
   "metadata": {},
   "source": [
    "# handle NaNs and infinite values\n",
    "df_anime = df_anime.replace([np.inf, -np.inf], np.nan)\n",
    "df_anime_num_cat1 = df_anime.dropna(subset=['Score', 'Type'])\n",
    "# filter out 'Type' categories with insufficient data\n",
    "min_elements = 2  # Set the minimum number of elements required in each group\n",
    "filtered_types = df_anime_num_cat1.groupby('Type').filter(lambda x: len(x) >= min_elements)\n",
    "# prepare data for KDE plot\n",
    "types = filtered_types['Type'].unique()\n",
    "hist_data = [filtered_types[filtered_types['Type'] == t]['Score'].values for t in types]\n",
    "# check if there is sufficient data to plot\n",
    "if all(len(data) > 1 for data in hist_data):\n",
    "    # create KDE plot\n",
    "    fig = ff.create_distplot(hist_data, types, show_hist=False, show_rug=False)\n",
    "\n",
    "    fig.update_layout(\n",
    "        title={'text': \"KDE Plot of Rating by Type\", \"x\": 0.5}, # set the title and make it in the center\n",
    "        xaxis_title=\"Rating\",\n",
    "        yaxis_title=\"Density\",\n",
    "        legend_title=\"Anime Type\",\n",
    "        width=1200,\n",
    "        height=600\n",
    "    )\n",
    "\n",
    "    fig.show()\n",
    "else:\n",
    "    print(\"No enough data to create a KDE plot for each Type.\")"
   ],
   "outputs": [],
   "execution_count": null
  },
  {
   "cell_type": "markdown",
   "id": "6acab9ef57268166",
   "metadata": {},
   "source": [
    "#### **(2) exploring the relationship between the number of episodes, episode duration, popularity, number of favorites, and ratings of an animation**"
   ]
  },
  {
   "cell_type": "code",
   "id": "6e268c7cd046ce88",
   "metadata": {},
   "source": [
    "# Score vs Episodes\n",
    "fig1 = go.Figure()\n",
    "fig1.add_trace(\n",
    "    go.Scatter(\n",
    "        x=df_anime['Score'],\n",
    "        y=df_anime['Episodes'],\n",
    "        mode='markers',\n",
    "        name='Rating vs Episodes',\n",
    "        marker=dict(\n",
    "            size=5,  # set the size of the point\n",
    "            color=df_anime['Score'],  # set the color of the point using value of Score column\n",
    "            colorscale='Viridis',  # set the color mapping\n",
    "            showscale=True  # show the color bar\n",
    "        )\n",
    "    )\n",
    ")\n",
    "fig1.update_layout(\n",
    "    title={'text': 'Rating vs Episodes', 'x': 0.5},\n",
    "    xaxis_title='Rating',\n",
    "    yaxis_title='Episodes',\n",
    "    width=450,\n",
    "    height=400,\n",
    "    showlegend=False\n",
    ")\n",
    "fig1.show()"
   ],
   "outputs": [],
   "execution_count": null
  },
  {
   "cell_type": "code",
   "id": "c0e1a3c8d704d7e5",
   "metadata": {},
   "source": [
    "# Score vs Duration\n",
    "fig2 = go.Figure()\n",
    "fig2.add_trace(\n",
    "    go.Scatter(\n",
    "        x=df_anime['Score'],\n",
    "        y=df_anime['Duration'],\n",
    "        mode='markers',\n",
    "        name='Rating vs Duration',\n",
    "        marker=dict(\n",
    "            size=5,\n",
    "            color=df_anime['Duration'],\n",
    "            colorscale='Cividis',\n",
    "            showscale=True\n",
    "        )\n",
    "    )\n",
    ")\n",
    "fig2.update_layout(\n",
    "    title={'text': 'Rating vs Duration', 'x': 0.5},\n",
    "    xaxis_title='Rating',\n",
    "    yaxis_title='Duration',\n",
    "    width=450,\n",
    "    height=400,\n",
    "    showlegend=False\n",
    ")\n",
    "fig2.show()"
   ],
   "outputs": [],
   "execution_count": null
  },
  {
   "cell_type": "code",
   "id": "ca01197b738026be",
   "metadata": {},
   "source": [
    "# Score vs Popularity\n",
    "fig3 = go.Figure()\n",
    "fig3.add_trace(\n",
    "    go.Scatter(\n",
    "        x=df_anime['Score'],\n",
    "        y=df_anime['Popularity'],\n",
    "        mode='markers',\n",
    "        name='Rating vs Popularity',\n",
    "        marker=dict(\n",
    "            size=5,\n",
    "            color=df_anime['Popularity'],\n",
    "            colorscale='Bluered',\n",
    "            showscale=True\n",
    "        )\n",
    "    )\n",
    ")\n",
    "fig3.update_layout(\n",
    "    title={'text': 'Rating vs Popularity', 'x': 0.5},\n",
    "    xaxis_title='Rating',\n",
    "    yaxis_title='Popularity',\n",
    "    width=450,\n",
    "    height=400,\n",
    "    showlegend=False\n",
    ")\n",
    "fig3.show()"
   ],
   "outputs": [],
   "execution_count": null
  },
  {
   "cell_type": "code",
   "id": "7b784d01f13cd9c4",
   "metadata": {},
   "source": [
    "# Score vs Favorites\n",
    "fig4 = go.Figure()\n",
    "fig4.add_trace(\n",
    "    go.Scatter(\n",
    "        x=df_anime['Score'],\n",
    "        y=df_anime['Favorites'],\n",
    "        mode='markers',\n",
    "        name='Rating vs Favorites',\n",
    "        marker=dict(\n",
    "            size=5,\n",
    "            color=df_anime['Favorites'],\n",
    "            colorscale='Portland',\n",
    "            showscale=True\n",
    "        )\n",
    "    )\n",
    ")\n",
    "fig4.update_layout(\n",
    "    title={'text': 'Rating vs Favorites', 'x': 0.5},\n",
    "    xaxis_title='Rating',\n",
    "    yaxis_title='Favorites',\n",
    "    width=450,\n",
    "    height=400,\n",
    "    showlegend=False\n",
    ")\n",
    "fig4.show()"
   ],
   "outputs": [],
   "execution_count": null
  },
  {
   "cell_type": "markdown",
   "id": "d376488f37b7e130",
   "metadata": {},
   "source": [
    "#### **(3) explore the relationship between the premiere year and ratings**"
   ]
  },
  {
   "cell_type": "code",
   "id": "cdd129192af39ac",
   "metadata": {},
   "source": [
    "# crate a new dataframe to process the data about premiered year\n",
    "df_premiered = pd.DataFrame(df_anime)\n",
    "# extract the year and drop UNKNOWN rows\n",
    "df_premiered['Year'] = df_premiered['Premiered'].apply(lambda x: x.split()[-1] if x != 'UNKNOWN' else None)\n",
    "# filter the null values\n",
    "df_premiered = df_premiered.dropna(subset=['Year'])\n",
    "# convert the data type to int64\n",
    "df_premiered['Year'] = df_premiered['Year'].astype(np.int64)\n",
    "\n",
    "# create the picture\n",
    "fig = px.scatter(\n",
    "    df_premiered, \n",
    "    x='Year', \n",
    "    y='Score', \n",
    "    labels={'Year': 'Premiered Year', 'Score': 'Score'}, \n",
    "    title='Premiered Year vs Score'\n",
    ")\n",
    "\n",
    "fig.update_layout(\n",
    "    title={'text': 'Premiered Year vs Score', 'x': 0.5}\n",
    ")\n",
    "\n",
    "fig.update_xaxes(dtick=1) # set the interval of x-axis to 1 year\n",
    "\n",
    "fig.show()"
   ],
   "outputs": [],
   "execution_count": null
  },
  {
   "cell_type": "code",
   "id": "703c25aa4b024f57",
   "metadata": {},
   "source": [
    "# calculate the average score for each year\n",
    "average_scores = df_premiered.groupby('Year')['Score'].mean().reset_index()\n",
    "\n",
    "# create line chart\n",
    "fig = px.line(\n",
    "    average_scores, \n",
    "    x='Year', \n",
    "    y='Score', \n",
    "    labels={'Year': 'Premiered Year', 'Score': 'Average Rating'}, \n",
    "    title='Average Score by Premiered Year'\n",
    ")\n",
    "\n",
    "fig.update_layout(\n",
    "    title={'text': 'Average Rating by Premiered Year', 'x': 0.5},\n",
    "    width=900,\n",
    "    height=600,\n",
    ")\n",
    "\n",
    "fig.update_xaxes(dtick=1)\n",
    "\n",
    "fig.update_traces(line=dict(color='blue')) # set the color of the line\n",
    "\n",
    "fig.show()"
   ],
   "outputs": [],
   "execution_count": null
  },
  {
   "cell_type": "markdown",
   "id": "11383e1de77e09fd",
   "metadata": {},
   "source": [
    "#### **(4) explore the differences in ratings for animations of various genres**"
   ]
  },
  {
   "cell_type": "code",
   "id": "ca324c336047fd13",
   "metadata": {},
   "source": [
    "# process NaN and outliers\n",
    "df_anime = df_anime.replace([np.inf, -np.inf], np.nan)\n",
    "df_anime_num_cat2 = df_anime.dropna(subset=['Score', 'Genres'])\n",
    "# split the Genres column\n",
    "df_anime_num_cat2 = df_anime_num_cat1.assign(Genres=df_anime_num_cat2['Genres'].str.split(', ')).explode('Genres')\n",
    "# filter out categories with insufficient samples\n",
    "min_elements = 2  # eet the minimum number of samples for each category\n",
    "filtered_genres = df_anime_num_cat2.groupby('Genres').filter(lambda x: len(x) >= min_elements)\n",
    "# prepare data for KDE chart\n",
    "genres = filtered_genres['Genres'].unique()\n",
    "hist_data = [filtered_genres[filtered_genres['Genres'] == genre]['Score'].values for genre in genres]\n",
    "# check if there is enough data to create a chart\n",
    "if all(len(data) > 1 for data in hist_data):\n",
    "    # create KDE chart\n",
    "    fig = ff.create_distplot(hist_data, genres, show_hist=False, show_rug=False)\n",
    "\n",
    "    fig.update_layout(\n",
    "        title={'text': \"KDE Plot of 'Score' by 'Genres'\", \"x\": 0.5},\n",
    "        xaxis_title=\"Score\",\n",
    "        yaxis_title=\"Density\",\n",
    "        legend_title=\"Genres\",\n",
    "        width=1200,\n",
    "        height=700,\n",
    "    )\n",
    "\n",
    "    fig.show()\n",
    "else:\n",
    "    print(\"Not enough data to create a KDE plot for each 'Genres'.\")"
   ],
   "outputs": [],
   "execution_count": null
  },
  {
   "cell_type": "markdown",
   "id": "d7887912a158b8f1",
   "metadata": {},
   "source": [
    "## Clean up user-details-2023"
   ]
  },
  {
   "cell_type": "code",
   "id": "c45d949d0102728a",
   "metadata": {},
   "source": [
    "df_user.info()"
   ],
   "outputs": [],
   "execution_count": null
  },
  {
   "cell_type": "code",
   "id": "53117ec7c3f67af5",
   "metadata": {},
   "source": [
    "df_user_num_list = df_user.select_dtypes(include=['number']).columns.tolist() # numerical data\n",
    "df_user_cat_list = df_user.select_dtypes(include=['object', 'category']).columns.tolist() # object data\n",
    "print(df_user_num_list)\n",
    "print(df_user_cat_list)"
   ],
   "outputs": [],
   "execution_count": null
  },
  {
   "cell_type": "code",
   "id": "b81935ddd32ac651",
   "metadata": {},
   "source": [
    "df_user.isnull().sum() / df_user.shape[0] * 100 # check the amount of null values"
   ],
   "outputs": [],
   "execution_count": null
  },
  {
   "cell_type": "markdown",
   "id": "c1fb1d8281c98db0",
   "metadata": {},
   "source": [
    "### Over 69% of the fields for Gender, Birthday, and Location are empty."
   ]
  },
  {
   "cell_type": "code",
   "id": "3c57777e06d2ecea",
   "metadata": {},
   "source": [
    "df_user.describe() # check the data distribution of df_user"
   ],
   "outputs": [],
   "execution_count": null
  },
  {
   "cell_type": "markdown",
   "id": "bebf4eaf5c2c89fd",
   "metadata": {},
   "source": [
    "### It is shocking that over 50% of the accounts are useless; they are merely registered and have not fully watched any anime. These entries must be cleared."
   ]
  },
  {
   "cell_type": "code",
   "id": "d058de0f4eb5cad",
   "metadata": {},
   "source": [
    "# remove useless accounts\n",
    "drop_id = ((df_user['Days Watched']==0) & (df_user['Mean Score']==0) & (df_user['Watching']==0) & (df_user['Completed']==0) \n",
    "           & (df_user['On Hold']==0) & (df_user['Dropped']==0) & (df_user['Plan to Watch']==0) & (df_user['Total Entries']==0) \n",
    "           & (df_user['Rewatched']==0))\n",
    "df_user = df_user[~drop_id]\n",
    "df_user.shape"
   ],
   "outputs": [],
   "execution_count": null
  },
  {
   "cell_type": "code",
   "id": "31f3677be9d826c9",
   "metadata": {},
   "source": [
    "df_user.describe()"
   ],
   "outputs": [],
   "execution_count": null
  },
  {
   "cell_type": "code",
   "id": "371841e07d5cee40",
   "metadata": {},
   "source": [
    "df_user.info()"
   ],
   "outputs": [],
   "execution_count": null
  },
  {
   "cell_type": "markdown",
   "id": "ee4baa703827d398",
   "metadata": {},
   "source": [
    "## How do fundamental features of anime, such as genre, premiere year, and number of episodes, correlate with ratings? (RQ2)\n"
   ]
  },
  {
   "cell_type": "code",
   "id": "1bae6e6966215702",
   "metadata": {},
   "source": [
    "# extract the Mean Score of users and count them\n",
    "df_user_mean_score_counts = df_user['Mean Score'].value_counts().reset_index()\n",
    "df_user_mean_score_counts.columns = ['Mean Score', 'Count']\n",
    "df_user_mean_score_counts = df_user_mean_score_counts[df_user_mean_score_counts['Mean Score'] != 0] # drop 0 rows\n",
    "df_user_mean_score_counts.head()"
   ],
   "outputs": [],
   "execution_count": null
  },
  {
   "cell_type": "code",
   "id": "9aaf55b126944a3e",
   "metadata": {},
   "source": [
    "# check the distribution of Mean Score\n",
    "fig = px.histogram(\n",
    "    df_user_mean_score_counts,\n",
    "    x='Mean Score',\n",
    "    y='Count',\n",
    "    labels={'Mean Score': 'Mean Rating', 'Count': 'Amount'}\n",
    ")\n",
    "fig.update_layout(\n",
    "    title={'text': 'Distribution of Users\\' Mean Ratings', 'x': 0.5},\n",
    "    width=1200,\n",
    "    height=600,\n",
    "    showlegend=False # hide the legend\n",
    ")\n",
    "fig.update_xaxes(range=[0, 10], dtick=0.1) # set the range of x-axis as 0 to 10, and the interval to 0.1\n",
    "fig.update_traces(xbins=dict(size=0.1)) # set the width of bars to 0.1\n",
    "fig.show()"
   ],
   "outputs": [],
   "execution_count": null
  },
  {
   "cell_type": "markdown",
   "id": "4a6e84ac52ff87ed",
   "metadata": {},
   "source": [
    "## How are user ratings distributed on the platform, and are there observable biases or tendencies in user rating behaviors? (RQ3)"
   ]
  },
  {
   "cell_type": "code",
   "id": "c26395fbc83e0666",
   "metadata": {},
   "source": [
    "# Mean Score and gender\n",
    "df_user_gender_score = df_user.dropna(subset=['Mean Score', 'Gender'])\n",
    "# filter out 'Gender' categories with insufficient data\n",
    "min_elements = 2  # set the minimum number of elements required in each group\n",
    "filtered_genders = df_user_gender_score.groupby('Gender').filter(lambda x: len(x) >= min_elements)\n",
    "# prepare data for KDE plot\n",
    "genders = filtered_genders['Gender'].unique()\n",
    "hist_data = [filtered_genders[filtered_genders['Gender'] == t]['Mean Score'].values for t in genders]\n",
    "# check if there is sufficient data to plot\n",
    "if all(len(data) > 1 for data in hist_data):\n",
    "    # create KDE plot\n",
    "    fig = ff.create_distplot(hist_data, genders, show_hist=False, show_rug=False) # hide the bar and rug plot\n",
    "\n",
    "    fig.update_layout(\n",
    "        title={'text': \"KDE Plot of Mean Rating by Gender\", \"x\": 0.5},\n",
    "        xaxis_title=\"Mean Rating\",\n",
    "        yaxis_title=\"Density\",\n",
    "        legend_title=\"Gender\",\n",
    "        width=1200,\n",
    "        height=600\n",
    "    )\n",
    "\n",
    "    fig.show()\n",
    "else:\n",
    "    print(\"Not enough data to create a KDE plot for each Gender.\")"
   ],
   "outputs": [],
   "execution_count": null
  },
  {
   "cell_type": "code",
   "id": "e370d80414d33215",
   "metadata": {},
   "source": [
    "# Mean Score and age\n",
    "df_user_age = df_user.dropna(subset=['Birthday', 'Mean Score'])\n",
    "df_user_age['Birthday'] = pd.to_datetime(df_user_age['Birthday'], errors='coerce') # ensure Birthday is the type of datatime\n",
    "\n",
    "current_year = 2023 # set current year\n",
    "df_user_age['Age'] = current_year - df_user_age['Birthday'].dt.year # calculate the age\n",
    "\n",
    "age_slice = [0, 18, 25, 35, 45, 55, 65, 120] # split the age\n",
    "labels = ['0-18', '18-25', '25-35', '35-45', '45-55', '55-65', '65+'] # set the age group\n",
    "df_user_age['Age Group'] = pd.cut(df_user_age['Age'], age_slice, labels=labels, right=False)\n",
    "# filter out 'Age Group' categories with insufficient data\n",
    "min_elements = 2  # set the minimum number of elements required in each group\n",
    "filtered_age_groups = df_user_age.groupby('Age Group').filter(lambda x: len(x) >= min_elements)\n",
    "# prepare data for KDE plot\n",
    "age_groups = filtered_age_groups['Age Group'].unique()\n",
    "hist_data = [filtered_age_groups[filtered_age_groups['Age Group'] == t]['Mean Score'].values for t in age_groups]\n",
    "# check if there is sufficient data to plot\n",
    "if all(len(data) > 1 for data in hist_data):\n",
    "    # create KDE plot\n",
    "    fig = ff.create_distplot(hist_data, age_groups, show_hist=False, show_rug=False)\n",
    "\n",
    "    fig.update_layout(\n",
    "        title={'text': \"KDE Plot of Mean Rating by Age Group\", \"x\": 0.5},\n",
    "        xaxis_title=\"Mean Rating\",\n",
    "        yaxis_title=\"Density\",\n",
    "        legend_title=\"Age Group\",\n",
    "        width=1200,\n",
    "        height=600\n",
    "    )\n",
    "\n",
    "    fig.show()\n",
    "else:\n",
    "    print(\"Not enough data to create a KDE plot for each Age Group.\")"
   ],
   "outputs": [],
   "execution_count": null
  }
 ],
 "metadata": {
  "kernelspec": {
   "display_name": "Python 3 (ipykernel)",
   "language": "python",
   "name": "python3"
  },
  "language_info": {
   "codemirror_mode": {
    "name": "ipython",
    "version": 3
   },
   "file_extension": ".py",
   "mimetype": "text/x-python",
   "name": "python",
   "nbconvert_exporter": "python",
   "pygments_lexer": "ipython3",
   "version": "3.11.10"
  }
 },
 "nbformat": 4,
 "nbformat_minor": 5
}
