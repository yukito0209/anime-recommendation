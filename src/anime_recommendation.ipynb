{
 "cells": [
  {
   "cell_type": "markdown",
   "id": "cf70dd0a8f4c3fac",
   "metadata": {},
   "source": "### How can we effectively recommend high-quality, highly-rated animations to users by integrating both anime and user features? (RQ5)\n"
  },
  {
   "cell_type": "code",
   "id": "initial_id",
   "metadata": {
    "collapsed": true,
    "jupyter": {
     "outputs_hidden": true
    }
   },
   "source": [
    "import pandas as pd\n",
    "import numpy as np\n",
    "import torch\n",
    "from transformers import BertTokenizer, BertModel\n",
    "from sklearn.metrics.pairwise import cosine_similarity"
   ],
   "outputs": [],
   "execution_count": null
  },
  {
   "cell_type": "code",
   "id": "178640da94fc2267",
   "metadata": {},
   "source": [
    "# road the dataset\n",
    "df_anime = pd.read_csv('data/anime-dataset-2023.csv')\n",
    "df_score = pd.read_csv('data/users-score-2023.csv')\n",
    "df_user = pd.read_csv('data/users-details-2023.csv')"
   ],
   "outputs": [],
   "execution_count": null
  },
  {
   "cell_type": "code",
   "id": "32da535e37108006",
   "metadata": {},
   "source": [
    "# preprocess for anime dataset\n",
    "df_anime = df_anime[df_anime['Score'] != 'UNKNOWN']\n",
    "df_anime = df_anime[df_anime['Scored By'] != 'UNKNOWN']\n",
    "# convert the floating-point numbers in the Scored By column to strings for processing\n",
    "df_anime['Scored By'] = df_anime['Scored By'].astype(str).str.split('.').str[0]\n",
    "df_anime['Score'] = df_anime['Score'].astype(np.float64)\n",
    "df_anime['Scored By'] = df_anime['Scored By'].astype(np.int64)\n",
    "df_anime = df_anime[df_anime['Scored By'] >= 1000]\n",
    "df_filtered = df_anime[df_anime['Type'].isin(['TV', 'Movie', 'OVA'])] # only reserve TV Movie OVA\n",
    "# filter animations with a duration of less than 1 hour\n",
    "df_filtered = df_filtered[df_filtered['Duration'].apply(lambda x: 'hr' not in x)]\n",
    "# filter out convertible years and retain only 21st-century animations\n",
    "def extract_year(aired_date):\n",
    "    try:\n",
    "        return int(aired_date.split(' ')[-1])\n",
    "    except ValueError:\n",
    "        return np.nan\n",
    "df_filtered['Year'] = df_filtered['Aired'].apply(extract_year)\n",
    "df_filtered = df_filtered.dropna(subset=['Year'])\n",
    "df_filtered = df_filtered[df_filtered['Year'] >= 2000]\n",
    "df_sorted = df_filtered.sort_values(by='Score', ascending=False)\n",
    "df_anime_500 = df_sorted.head(500)"
   ],
   "outputs": [],
   "execution_count": null
  },
  {
   "cell_type": "code",
   "id": "df7143228d523f50",
   "metadata": {},
   "source": [
    "# preprocess for users' scores dataset\n",
    "df_score = df_score.dropna()\n",
    "user_counts = df_score['user_id'].value_counts()\n",
    "valid_users = user_counts[user_counts >= 3].index # drop users who rated less than 3 anime\n",
    "df_score_filtered = df_score[df_score['user_id'].isin(valid_users)]\n",
    "df_top3_per_user = df_score_filtered.sort_values(by=['user_id', 'rating', 'anime_id'], ascending=[True, False, True])\n",
    "df_top3_per_user = df_top3_per_user.groupby('user_id').apply(lambda x: x.sort_values(by='rating', ascending=False)).reset_index(drop=True)"
   ],
   "outputs": [],
   "execution_count": null
  },
  {
   "metadata": {},
   "cell_type": "code",
   "source": "df_user_watched = df_top3_per_user # save a copy for filtering the anime watched by users",
   "id": "c834e04230c3e2de",
   "outputs": [],
   "execution_count": null
  },
  {
   "cell_type": "code",
   "id": "99e253af58be6d07",
   "metadata": {},
   "source": [
    "# merge two data frames to obtain popularity\n",
    "df_top3_per_user = df_top3_per_user.merge(df_anime_500[['anime_id', 'Popularity']], on='anime_id', how='left')\n",
    "df_top3_per_user = df_top3_per_user.dropna(subset=['Popularity'])\n",
    "df_top3_per_user = df_top3_per_user.sort_values(by=['user_id', 'rating', 'Popularity'], ascending=[True, False, True])\n",
    "df_top3_per_user = df_top3_per_user.groupby('user_id').head(3).reset_index(drop=True)"
   ],
   "outputs": [],
   "execution_count": null
  },
  {
   "metadata": {},
   "cell_type": "code",
   "source": "df_top3_per_user",
   "id": "7936659f8dfa3e7b",
   "outputs": [],
   "execution_count": null
  },
  {
   "cell_type": "code",
   "id": "c916f895d6169503",
   "metadata": {},
   "source": [
    "# preprocess for user dataset\n",
    "df_user = df_user.dropna(subset=['Birthday'])\n",
    "\n",
    "df_user['Birthday'] = pd.to_datetime(df_user['Birthday'], errors='coerce') # ensure the Birthday column is of datetime type\n",
    "current_year = 2023\n",
    "df_user['age'] = current_year - df_user['Birthday'].dt.year # calculate age of users"
   ],
   "outputs": [],
   "execution_count": null
  },
  {
   "metadata": {},
   "cell_type": "code",
   "source": [
    "# handle the missing gender, such as filling it with an empty string\n",
    "df_user['Gender'] = df_user['Gender'].fillna('')\n",
    "# check the distribution of gender\n",
    "print(df_user['Gender'].value_counts())\n",
    "# analyze the preferences of users of different genders in rating different types of animations\n",
    "gender_preferences = df_score_filtered.merge(df_user[['Mal ID', 'Gender']], left_on='user_id', right_on='Mal ID')\n",
    "# Calculate the mean and median of scores by gender.\n",
    "gender_anime_ratings = gender_preferences.merge(df_anime_500[['anime_id', 'Genres']], on='anime_id')\n",
    "gender_rating_stats = gender_anime_ratings.groupby(['Gender', 'Genres'])['rating'].agg(['mean', 'median']).reset_index()\n",
    "# check the result\n",
    "print(gender_rating_stats.sort_values(by='mean', ascending=False))"
   ],
   "id": "ff85e55d3272ff46",
   "outputs": [],
   "execution_count": null
  },
  {
   "cell_type": "code",
   "id": "110717039b1bf961",
   "metadata": {},
   "source": [
    "# initialize the BERT model and tokenizer locally (we cannot initialize the model online for internet issue)\n",
    "tokenizer = BertTokenizer.from_pretrained('bert-base-uncased')\n",
    "model = BertModel.from_pretrained('bert-base-uncased')"
   ],
   "outputs": [],
   "execution_count": null
  },
  {
   "cell_type": "code",
   "id": "360623e49a69f331",
   "metadata": {},
   "source": [
    "# move the model to the GPU\n",
    "device = torch.device('cuda' if torch.cuda.is_available() else 'cpu')\n",
    "model.to(device)\n",
    "\n",
    "# convert the text into a fixed-size vector\n",
    "def get_embedding(text):\n",
    "    inputs = tokenizer(text, return_tensors='pt', truncation=True, padding=True, max_length=512)\n",
    "    inputs = {key: value.to(device) for key, value in inputs.items()}\n",
    "    with torch.no_grad():\n",
    "        outputs = model(**inputs)\n",
    "    return outputs.last_hidden_state.mean(dim=1).squeeze().cpu()"
   ],
   "outputs": [],
   "execution_count": null
  },
  {
   "cell_type": "code",
   "id": "fd20919ad805ec95",
   "metadata": {},
   "source": [
    "# calculate embeddings for each anime in df_anime_500\n",
    "df_anime_500 = df_anime_500.copy()\n",
    "df_anime_500['embedding'] = df_anime_500['Synopsis'].apply(get_embedding)"
   ],
   "outputs": [],
   "execution_count": null
  },
  {
   "metadata": {},
   "cell_type": "code",
   "source": "df_top3_per_user",
   "id": "9760f2fbf3ddadcc",
   "outputs": [],
   "execution_count": null
  },
  {
   "cell_type": "code",
   "id": "69d3fb01d019dc61",
   "metadata": {},
   "source": [
    "# the recommendation function\n",
    "def recommend_anime(user_id, num_recommendations=5):\n",
    "    user = df_user[df_user['Mal ID'] == user_id]\n",
    "    # check if the user exists\n",
    "    if user.empty:\n",
    "        print(f\"User ID {user_id} doesn't exist。\")\n",
    "        return None\n",
    "\n",
    "    user_age = user['age'].values[0]\n",
    "    user_gender = user['Gender'].values[0]\n",
    "\n",
    "    # Get the top three highest-rated animations by users.\n",
    "    user_top_anime_ids = df_top3_per_user[df_top3_per_user['user_id'] == user_id]['anime_id'].unique()\n",
    "    if len(user_top_anime_ids) == 0:\n",
    "        print(f\"User ID {user_id} doesn't have enough anime。\")\n",
    "        return None\n",
    "\n",
    "    user_top_anime = df_anime_500[df_anime_500['anime_id'].isin(user_top_anime_ids)]\n",
    "\n",
    "    # initialize an empty dataframe to store similarity results\n",
    "    similarity_results = pd.DataFrame()\n",
    "\n",
    "    # print the 3 highest-rated anime by users\n",
    "    print(\"The 3 highest-rated anime by users:\")\n",
    "    print(df_top3_per_user[df_top3_per_user['user_id'] == user_id][['anime_id', 'Anime Title', 'rating']])\n",
    "\n",
    "    # recommend based on three animations one by one\n",
    "    for _, user_anime in user_top_anime.iterrows():\n",
    "        user_embedding = user_anime['embedding']\n",
    "\n",
    "        df_anime_500_copy = df_anime_500.copy()\n",
    "        df_anime_500_copy['similarity'] = df_anime_500_copy['embedding'].apply(lambda x: cosine_similarity([user_embedding], [x])[0][0])\n",
    "\n",
    "        # filter the age of users\n",
    "        if user_age < 17:\n",
    "            df_anime_500_copy = df_anime_500_copy[df_anime_500_copy['Rating'] != 'R - 17+ (violence & profanity)']\n",
    "\n",
    "        # combine gender preference (weighted values scored by gender preference)\n",
    "        if user_gender:\n",
    "            for genre in df_anime_500_copy['Genres'].unique():\n",
    "                gender_genre_mean = gender_rating_stats[(gender_rating_stats['Gender'] == user_gender) & (gender_rating_stats['Genres'] == genre)]['mean']\n",
    "                if not gender_genre_mean.empty:\n",
    "                    mean_rating = gender_genre_mean.values[0]\n",
    "                    df_anime_500_copy.loc[df_anime_500_copy['Genres'] == genre, 'similarity'] *= (mean_rating / 10)\n",
    "\n",
    "        # calculated the weighted score\n",
    "        df_anime_500_copy['score_weighted'] = (df_anime_500_copy['Score'] * 0.5 +\n",
    "                                               df_anime_500_copy['Favorites'] / 1000 * 0.3 +\n",
    "                                               df_anime_500_copy['Popularity'].apply(lambda y: (50 / y) * 0.2))\n",
    "\n",
    "        # Remove the animations already included in the user ratings.\n",
    "        df_anime_500_filtered = df_anime_500_copy[~df_anime_500_copy['anime_id'].isin(df_user_watched)]\n",
    "\n",
    "        # select the top 5 most similar animations\n",
    "        top_recommendations = df_anime_500_filtered.sort_values(by='similarity', ascending=False).head(5)\n",
    "        similarity_results = pd.concat([similarity_results, top_recommendations])\n",
    "\n",
    "    # calculate the total weighted score\n",
    "    similarity_results['score_weighted'] = (similarity_results['Score'] * 0.5 +\n",
    "                                            similarity_results['Favorites'] / 1000 * 0.3 +\n",
    "                                            similarity_results['Popularity'].apply(lambda y: (50 / y) * 0.2))\n",
    "\n",
    "    # remove duplicates and select the top 'num_recommendations' animations with the highest weighted scores\n",
    "    final_recommendations = similarity_results.drop_duplicates(subset='anime_id').sort_values(by='score_weighted', ascending=False).head(num_recommendations)\n",
    "\n",
    "    # print the results\n",
    "    print(\"\\nRecommended anime:\")\n",
    "    print(final_recommendations[['Name', 'Score', 'Popularity', 'Favorites', 'similarity', 'score_weighted']])\n",
    "\n",
    "    return final_recommendations"
   ],
   "outputs": [],
   "execution_count": null
  },
  {
   "metadata": {},
   "cell_type": "code",
   "source": "df_user # check valid user ids",
   "id": "f78bd8edb6c9209f",
   "outputs": [],
   "execution_count": null
  },
  {
   "cell_type": "code",
   "id": "251e2c5435af910f",
   "metadata": {},
   "source": "recommend_anime(20, 5) # test",
   "outputs": [],
   "execution_count": null
  }
 ],
 "metadata": {
  "kernelspec": {
   "display_name": "Python 3 (ipykernel)",
   "language": "python",
   "name": "python3"
  },
  "language_info": {
   "codemirror_mode": {
    "name": "ipython",
    "version": 3
   },
   "file_extension": ".py",
   "mimetype": "text/x-python",
   "name": "python",
   "nbconvert_exporter": "python",
   "pygments_lexer": "ipython3",
   "version": "3.11.10"
  }
 },
 "nbformat": 4,
 "nbformat_minor": 5
}
